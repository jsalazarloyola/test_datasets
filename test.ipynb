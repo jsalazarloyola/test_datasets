{
 "cells": [
  {
   "cell_type": "markdown",
   "metadata": {},
   "source": [
    "# Test\n",
    "\n",
    "Este es un test solo para ver si Github tiene soporte para MathJax en Notebooks:\n",
    "\n",
    "$$F = m\\vec{a}$$\n",
    "\n",
    "Eso."
   ]
  },
  {
   "cell_type": "code",
   "execution_count": null,
   "metadata": {},
   "outputs": [],
   "source": []
  }
 ],
 "metadata": {
  "language_info": {
   "name": "python"
  }
 },
 "nbformat": 4,
 "nbformat_minor": 2
}
